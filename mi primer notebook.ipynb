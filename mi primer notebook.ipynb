{
 "cells": [
  {
   "cell_type": "code",
   "execution_count": 1,
   "id": "1baa866c-c0d2-4178-a5c8-ad14040b9597",
   "metadata": {},
   "outputs": [
    {
     "name": "stdout",
     "output_type": "stream",
     "text": [
      "Hello, world\n",
      "fuck this world\n"
     ]
    }
   ],
   "source": [
    "print(\"Hello, world\")\n",
    "print(\"fuck this world\")\n",
    "\n"
   ]
  },
  {
   "cell_type": "markdown",
   "id": "e3238cd4-dc1b-4fda-a1b2-ef5991ceee7f",
   "metadata": {},
   "source": [
    "\n",
    "Hola mundoo\n"
   ]
  },
  {
   "cell_type": "code",
   "execution_count": null,
   "id": "f58190d1-038a-48d4-8648-832790bafd5a",
   "metadata": {},
   "outputs": [],
   "source": []
  }
 ],
 "metadata": {
  "kernelspec": {
   "display_name": "Python 3 (ipykernel)",
   "language": "python",
   "name": "python3"
  },
  "language_info": {
   "codemirror_mode": {
    "name": "ipython",
    "version": 3
   },
   "file_extension": ".py",
   "mimetype": "text/x-python",
   "name": "python",
   "nbconvert_exporter": "python",
   "pygments_lexer": "ipython3",
   "version": "3.12.8"
  }
 },
 "nbformat": 4,
 "nbformat_minor": 5
}
