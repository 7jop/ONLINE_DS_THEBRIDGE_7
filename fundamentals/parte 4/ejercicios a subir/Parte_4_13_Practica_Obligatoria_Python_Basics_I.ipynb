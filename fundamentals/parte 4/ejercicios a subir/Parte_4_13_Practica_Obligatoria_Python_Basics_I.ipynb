{
 "cells": [
  {
   "cell_type": "markdown",
   "metadata": {
    "id": "BNCAebJANPxq"
   },
   "source": [
    "![TheBridge_logo_RGB_color.jpg](attachment:TheBridge_logo_RGB_color.jpg)"
   ]
  },
  {
   "cell_type": "markdown",
   "metadata": {
    "id": "A9eDZvZaNPxs"
   },
   "source": [
    "![imagen](./img/ejercicios.png)"
   ]
  },
  {
   "cell_type": "markdown",
   "metadata": {
    "id": "59zPhBxXNPxs"
   },
   "source": [
    "## PRACTICA OBLIGATORIA: PYTHON"
   ]
  },
  {
   "cell_type": "markdown",
   "metadata": {
    "id": "mv2kb1GMNPxs"
   },
   "source": [
    "* La práctica obligatoria de esta unidad consiste en dos ejercicios de programación libre a completar.   \n",
    "* Recuerda que debes subirla a tu repositorio personal antes de la sesión en vivo para que puntúe adecuadamente.  \n",
    "* Recuerda también que no es necesario que esté perfecta, sólo es necesario que se vea el esfuerzo.\n",
    "* Esta práctica se resolverá en la sesión en vivo correspondiente y la solución se publicará en el repo del curso."
   ]
  },
  {
   "cell_type": "markdown",
   "metadata": {
    "id": "Kl9JzST2NPxt"
   },
   "source": [
    "![ejercicio.png](./img/ejercicio.png)\n",
    "## PARTE I\n",
    "\n",
    "En este ejercicio debes simular un chatbot al que le haremos pedidos de pizzas.\n",
    "\n",
    "1. El chatbot tiene que saludar con un: \"Buenas tardes, bienvenido al servicio de pedido online, el precio de nuestra pizzas es de 8,95 para la familiar o de 9,90 para la mediana ¿Cuántas pizzas  familiares desea?\"\n",
    "2. El ususario tiene que introducir un número de pizzas en una variable llamada 'pizz_familiar'\n",
    "3. El chatbot debe responder: \"Estupendo, ¿cuántas pizzas medianas desea?\" y guardar el número de pizzas medianas en otra variable 'pizz_mediana'\n",
    "4. Además debe responder del chatbot: \"Estupendo, se están preparando 'pizz' pizzas familiares y 'pizz_mediana' pizzas medianas. Digame su dirección\"\n",
    "5. El ususario tiene que introducir una direccion en formato String en otra variable llamada 'direcc'\n",
    "6. El programa debe calcular el monto total\n",
    "7. Respuesta final del chatbot: \"Le mandaremos las '(número total de pizzas)' pizzas a la dirección 'direcc'. Serán <precio total a pagar en euros>. Muchas gracias por su pedido.\"\n",
    "         \n"
   ]
  },
  {
   "cell_type": "code",
   "execution_count": 40,
   "metadata": {
    "id": "qkKibyt-NPxt"
   },
   "outputs": [
    {
     "name": "stdin",
     "output_type": "stream",
     "text": [
      "Buenas tardes, bienvenido al servicio de pedido online, el precio de nuestra pizzas es de 8,95 para la familiar o de 9,90 para la mediana ¿Cuántas pizzas familiares desea? 23\n",
      "Estupendo, ¿cuántas pizzas medianas desea? 12\n",
      "Estupendo, se están preparando 'pizz' pizzas familiares y 'pizz_mediana' pizzas medianas. Digame su dirección Avenida de los Gamberros, La Rioja, Francia\n"
     ]
    },
    {
     "name": "stdout",
     "output_type": "stream",
     "text": [
      "324.65\n",
      "Le mandaremos las 35 pizzas a la dirección Avenida de los Gamberros, La Rioja, Francia. Serán  324. Muchas gracias por su pedido.\n"
     ]
    }
   ],
   "source": [
    "p_familiar=8.95\n",
    "p_mediana= 9.9\n",
    "\n",
    "pizz_familiar= int( input(\"Buenas tardes, bienvenido al servicio de pedido online, el precio de nuestra pizzas es de 8,95 para la familiar o de 9,90 para la mediana ¿Cuántas pizzas familiares desea?\"))\n",
    "pizz_mediana= int(input(\"Estupendo, ¿cuántas pizzas medianas desea?\"))\n",
    "direcc= input(\"Estupendo, se están preparando 'pizz' pizzas familiares y 'pizz_mediana' pizzas medianas. Digame su dirección\")\n",
    "coste= p_familiar*pizz_familiar + p_mediana* pizz_mediana\n",
    "print(coste)\n",
    "numero_pizzas=pizz_familiar+pizz_mediana\n",
    "print(\"Le mandaremos las %s pizzas a la dirección %s. Serán  %d. Muchas gracias por su pedido.\" %(numero_pizzas,direcc, coste))"
   ]
  },
  {
   "cell_type": "code",
   "execution_count": null,
   "metadata": {},
   "outputs": [],
   "source": []
  },
  {
   "cell_type": "markdown",
   "metadata": {
    "id": "f0oqoGDGNPxt"
   },
   "source": [
    "![ejercicio.png](./img/ejercicio.png)\n",
    "## Parte II\n",
    "\n",
    "Crea un programa que realice las siguientes acciones:\n",
    "\n",
    "1. Solicite al usuario que introduzca 3 números enteros separados por comas (por ejemplo: 1,2,3).\n",
    "2. Convierta esa entrada en una lista de números enteros.\n",
    "3. Utilizando funciones built-in, determine el número máximo, el número mínimo y la suma total de los números introducidos.\n",
    "4. Determine la verdad o falsedad de la siguiente afirmación: \"El número máximo menos el número mínimo es igual a la suma total dividida por 5\".\n",
    "5. Muestre los resultados utilizando print."
   ]
  },
  {
   "cell_type": "code",
   "execution_count": 27,
   "metadata": {
    "id": "rAlpWiQ9NPxt"
   },
   "outputs": [
    {
     "name": "stdin",
     "output_type": "stream",
     "text": [
      "Introduzca 3 números enteros separados por comas: 1,2,3\n"
     ]
    },
    {
     "name": "stdout",
     "output_type": "stream",
     "text": [
      "['1', '2', '3']\n",
      "[1, 2, 3]\n",
      "3\n",
      "1\n",
      "6\n",
      "False\n"
     ]
    }
   ],
   "source": [
    "\n",
    "\n",
    "lista= input(\"Introduzca 3 números enteros separados por comas:\").split(\",\")\n",
    "print(lista)\n",
    "\n",
    "nuevalista= list(map(int,lista))\n",
    "\n",
    "print(nuevalista)\n",
    "print(max(nuevalista))\n",
    "print(min(nuevalista))\n",
    "\n",
    "print(sum(nuevalista))\n",
    "print(max(nuevalista) - min(nuevalista) == sum(nuevalista)/5)\n",
    "\n",
    "\n",
    "\n",
    "\n",
    "\n"
   ]
  },
  {
   "cell_type": "code",
   "execution_count": 25,
   "metadata": {},
   "outputs": [
    {
     "data": {
      "text/plain": [
       "[1, 2, 3]"
      ]
     },
     "execution_count": 25,
     "metadata": {},
     "output_type": "execute_result"
    }
   ],
   "source": [
    "testlist= [\"1\",\"2\",\"3\"]\n",
    "list(testlist)\n",
    "list(map(int,testlist))"
   ]
  },
  {
   "cell_type": "code",
   "execution_count": 29,
   "metadata": {},
   "outputs": [
    {
     "name": "stdout",
     "output_type": "stream",
     "text": [
      "[1.0, 2.0, 3.0]\n"
     ]
    }
   ],
   "source": [
    "k=[\"1\",\"2\",\"3\"]\n",
    "print(list(map(float,k)))\n",
    "map()\n",
    "\n"
   ]
  }
 ],
 "metadata": {
  "colab": {
   "provenance": []
  },
  "kernelspec": {
   "display_name": "Python 3 (ipykernel)",
   "language": "python",
   "name": "python3"
  },
  "language_info": {
   "codemirror_mode": {
    "name": "ipython",
    "version": 3
   },
   "file_extension": ".py",
   "mimetype": "text/x-python",
   "name": "python",
   "nbconvert_exporter": "python",
   "pygments_lexer": "ipython3",
   "version": "3.12.8"
  }
 },
 "nbformat": 4,
 "nbformat_minor": 4
}
